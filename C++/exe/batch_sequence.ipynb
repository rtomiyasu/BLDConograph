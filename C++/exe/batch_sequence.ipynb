{
 "cells": [
  {
   "cell_type": "code",
   "execution_count": 1,
   "id": "8c25404e",
   "metadata": {},
   "outputs": [],
   "source": [
    "import os\n",
    "import shutil"
   ]
  },
  {
   "cell_type": "code",
   "execution_count": 2,
   "id": "3d616995",
   "metadata": {},
   "outputs": [
    {
     "data": {
      "text/plain": [
       "['sample\\\\sample1(Tetragonal(I)_3.84,3.84,20.1,90,90,90)',\n",
       " 'sample\\\\sample2(Orthogonal(P)_3.88,3.88,11.7,90,90,90)',\n",
       " 'sample\\\\sample3(Cubic(I)_18.9,18.9,18.9,90,90,90)',\n",
       " 'sample\\\\sample4(Cubic(F)_5.27,5.27,5.27,90,90,90)',\n",
       " 'sample\\\\sample5(Hexagonal_23.1,23.1,10.7,90,90,120)',\n",
       " 'sample\\\\sample6(Monoclinic(C)_14,11.8,20.9,90,101,90)',\n",
       " 'sample\\\\sample7(Rhombohedral_4.76,4.76,13,90,90,120)']"
      ]
     },
     "execution_count": 2,
     "metadata": {},
     "output_type": "execute_result"
    }
   ],
   "source": [
    "dirList = []\n",
    "for currentDir, dirs, files in os.walk ('sample'):\n",
    "    if 'cntl.inp.xml' in files:\n",
    "        dirList.append (currentDir)\n",
    "dirList"
   ]
  },
  {
   "cell_type": "code",
   "execution_count": 3,
   "id": "0bbe674a",
   "metadata": {},
   "outputs": [
    {
     "name": "stdout",
     "output_type": "stream",
     "text": [
      "Start processing HERMES_Sr327_250K.inp.xml...\n",
      "----S input----\n",
      "14.758659, -0.011882, -7.293825\n",
      "-0.011882, 14.840986, -7.231713\n",
      "-7.293825, -7.231713, 107.931321\n",
      "nrow : 3 ncol : 3\n",
      "---input parameters---\n",
      "eps = 0.1 doesPrudentSearch = 1\n",
      "axisBaseCentered = B\n",
      "axisRhombohedral = Hexagonal\n",
      "Outputting output/HERMES_Sr327_250K.out.xml\n",
      "\n",
      "Completed.\n",
      "\n",
      "complete folder sample\\sample1(Tetragonal(I)_3.84,3.84,20.1,90,90,90) ...\n",
      "Start processing 1339prbasrcuo_bs1.inp.xml...\n",
      "----S input----\n",
      "15.048193, -0.014985, -0.030772\n",
      "-0.014985, 15.077689, -0.014216\n",
      "-0.030772, -0.014216, 135.815716\n",
      "nrow : 3 ncol : 3\n",
      "---input parameters---\n",
      "eps = 0.1 doesPrudentSearch = 1\n",
      "axisBaseCentered = B\n",
      "axisRhombohedral = Hexagonal\n",
      "Outputting output/1339prbasrcuo_bs1.out.xml\n",
      "\n",
      "Completed.\n",
      "\n",
      "complete folder sample\\sample2(Orthogonal(P)_3.88,3.88,11.7,90,90,90) ...\n",
      "Start processing sample3.inp.xml...\n",
      "----S input----\n",
      "266.734224, -88.421769, -89.261903\n",
      "-88.421769, 267.257104, -88.865313\n",
      "-89.261903, -88.865313, 267.551449\n",
      "nrow : 3 ncol : 3\n",
      "---input parameters---\n",
      "eps = 0.1 doesPrudentSearch = 1\n",
      "axisBaseCentered = B\n",
      "axisRhombohedral = Hexagonal\n",
      "Outputting output/sample3.out.xml\n",
      "\n",
      "Completed.\n",
      "\n",
      "complete folder sample\\sample3(Cubic(I)_18.9,18.9,18.9,90,90,90) ...\n",
      "Start processing CeO2_matsushita.inp.xml...\n",
      "----S input----\n",
      "13.875625, -6.922457, -6.936119\n",
      "-6.922457, 13.889784, -0.024253\n",
      "-6.936119, -0.024253, 13.902458\n",
      "nrow : 3 ncol : 3\n",
      "---input parameters---\n",
      "eps = 0.1 doesPrudentSearch = 1\n",
      "axisBaseCentered = B\n",
      "axisRhombohedral = Hexagonal\n",
      "Outputting output/CeO2_matsushita.out.xml\n",
      "\n",
      "Completed.\n",
      "\n",
      "complete folder sample\\sample4(Cubic(F)_5.27,5.27,5.27,90,90,90) ...\n",
      "Start processing M402-pf-119673.inp.xml...\n",
      "----S input----\n",
      "113.507716, 3.750503, 2.664735\n",
      "3.750503, 524.181025, 258.536271\n",
      "2.664735, 258.536271, 529.138009\n",
      "nrow : 3 ncol : 3\n",
      "---input parameters---\n",
      "eps = 0.1 doesPrudentSearch = 1\n",
      "axisBaseCentered = B\n",
      "axisRhombohedral = Hexagonal\n",
      "Outputting output/M402-pf-119673.out.xml\n",
      "\n",
      "Completed.\n",
      "\n",
      "complete folder sample\\sample5(Hexagonal_23.1,23.1,10.7,90,90,120) ...\n",
      "Start processing Acrinol-B-D8CuKa1.inp.xml...\n",
      "----S input----\n",
      "83.846986, 14.458621, 27.518333\n",
      "14.458621, 84.110909, 27.949767\n",
      "27.518333, 27.949767, 438.734916\n",
      "nrow : 3 ncol : 3\n",
      "---input parameters---\n",
      "eps = 0.1 doesPrudentSearch = 1\n",
      "axisBaseCentered = B\n",
      "axisRhombohedral = Hexagonal\n",
      "Outputting output/Acrinol-B-D8CuKa1.out.xml\n",
      "\n",
      "Completed.\n",
      "\n",
      "complete folder sample\\sample6(Monoclinic(C)_14,11.8,20.9,90,101,90) ...\n",
      "Start processing Alumina676.inp.xml...\n",
      "----S input----\n",
      "22.494152, -11.229370, -0.071899\n",
      "-11.229370, 22.850312, -11.046227\n",
      "-0.071899, -11.046227, 26.104946\n",
      "nrow : 3 ncol : 3\n",
      "---input parameters---\n",
      "eps = 0.1 doesPrudentSearch = 1\n",
      "axisBaseCentered = B\n",
      "axisRhombohedral = Hexagonal\n",
      "Outputting output/Alumina676.out.xml\n",
      "\n",
      "Completed.\n",
      "\n",
      "complete folder sample\\sample7(Rhombohedral_4.76,4.76,13,90,90,120) ...\n"
     ]
    }
   ],
   "source": [
    "for dir in dirList:\n",
    "    shutil.copy ('BLDConograph.exe', dir)\n",
    "    os.chdir (dir)\n",
    "    !.\\BLDConograph.exe\n",
    "    os.remove ('BLDConograph.exe')\n",
    "    print ('complete folder {} ...'.format(dir))\n",
    "    while not os.path.exists ('BLDConograph.exe'):\n",
    "        os.chdir ('..')"
   ]
  },
  {
   "cell_type": "code",
   "execution_count": 14,
   "id": "d6ff323b",
   "metadata": {},
   "outputs": [
    {
     "data": {
      "text/plain": [
       "'C:\\\\Users\\\\justd\\\\Documents\\\\tomiyasu_labo\\\\BLDConograph_C++new\\\\exe'"
      ]
     },
     "execution_count": 14,
     "metadata": {},
     "output_type": "execute_result"
    }
   ],
   "source": [
    "os.getcwd()"
   ]
  },
  {
   "cell_type": "code",
   "execution_count": 13,
   "id": "fc6a07ed",
   "metadata": {},
   "outputs": [],
   "source": [
    "os.chdir('..')"
   ]
  },
  {
   "cell_type": "code",
   "execution_count": null,
   "id": "7253167e",
   "metadata": {},
   "outputs": [],
   "source": []
  }
 ],
 "metadata": {
  "kernelspec": {
   "display_name": "Python 3 (ipykernel)",
   "language": "python",
   "name": "python3"
  },
  "language_info": {
   "codemirror_mode": {
    "name": "ipython",
    "version": 3
   },
   "file_extension": ".py",
   "mimetype": "text/x-python",
   "name": "python",
   "nbconvert_exporter": "python",
   "pygments_lexer": "ipython3",
   "version": "3.10.11"
  }
 },
 "nbformat": 4,
 "nbformat_minor": 5
}
